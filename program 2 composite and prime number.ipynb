{
 "cells": [
  {
   "cell_type": "code",
   "execution_count": null,
   "metadata": {},
   "outputs": [],
   "source": [
    "b=1\n",
    "while b==1:\n",
    "    number = int(input(\"Enter your number : \"))\n",
    "    \n",
    "    if number==0 or number==1:\n",
    "        print(\"Entered number is  neither a prime nor composite.\")\n",
    "        \n",
    "    elif number > 1:\n",
    "        for i in range(2, number):\n",
    "            if (number % i) == 0:\n",
    "                print(number, \"entered number is not  prime number\")\n",
    "                break\n",
    "        else:\n",
    "            print(number, \"entered number is a prime number\")\n",
    "    else:\n",
    "        print(number, \"is invalid entry\")"
   ]
  },
  {
   "cell_type": "code",
   "execution_count": null,
   "metadata": {},
   "outputs": [],
   "source": []
  }
 ],
 "metadata": {
  "kernelspec": {
   "display_name": "Python 3",
   "language": "python",
   "name": "python3"
  },
  "language_info": {
   "codemirror_mode": {
    "name": "ipython",
    "version": 3
   },
   "file_extension": ".py",
   "mimetype": "text/x-python",
   "name": "python",
   "nbconvert_exporter": "python",
   "pygments_lexer": "ipython3",
   "version": "3.6.5"
  }
 },
 "nbformat": 4,
 "nbformat_minor": 2
}
