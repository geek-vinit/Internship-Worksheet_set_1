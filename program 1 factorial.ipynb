{
 "cells": [
  {
   "cell_type": "code",
   "execution_count": null,
   "metadata": {},
   "outputs": [],
   "source": [
    "n=1\n",
    "while( n==1):\n",
    "    number = int(input('Enter your number to know its factorial: '))\n",
    "    factorial = 1\n",
    "    if number<0 or number==0:\n",
    "        print('Please enter valid number')\n",
    "    else:\n",
    "        for i in range (1,number+1):\n",
    "            factorial = factorial * i\n",
    "        print('Factorial of',number,'is',factorial)"
   ]
  },
  {
   "cell_type": "code",
   "execution_count": null,
   "metadata": {},
   "outputs": [],
   "source": [
    "number = int(input('Enter your number to know its factorial: '))\n",
    "factorial = 1\n",
    "while number>=1 :\n",
    "    factorial = factorial * number\n",
    "    number = number - 1\n",
    "print('Factorial is',factorial)\n",
    "\n",
    "    "
   ]
  },
  {
   "cell_type": "code",
   "execution_count": null,
   "metadata": {},
   "outputs": [],
   "source": []
  }
 ],
 "metadata": {
  "kernelspec": {
   "display_name": "Python 3",
   "language": "python",
   "name": "python3"
  },
  "language_info": {
   "codemirror_mode": {
    "name": "ipython",
    "version": 3
   },
   "file_extension": ".py",
   "mimetype": "text/x-python",
   "name": "python",
   "nbconvert_exporter": "python",
   "pygments_lexer": "ipython3",
   "version": "3.6.5"
  }
 },
 "nbformat": 4,
 "nbformat_minor": 2
}
